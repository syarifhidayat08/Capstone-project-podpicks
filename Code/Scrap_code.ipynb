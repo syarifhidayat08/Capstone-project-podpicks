{
 "cells": [
  {
   "cell_type": "code",
   "execution_count": 1,
   "metadata": {},
   "outputs": [],
   "source": [
    "import csv\n",
    "import spotipy\n",
    "from spotipy.oauth2 import SpotifyClientCredentials\n",
    "\n",
    "\n"
   ]
  },
  {
   "cell_type": "code",
   "execution_count": 2,
   "metadata": {},
   "outputs": [],
   "source": [
    "# Your Spotify API credentials\n",
    "client_id = '07a0800fd29f4f178958d2ed249b24c1'\n",
    "client_secret = '3ffba6a360d943eca14a252927d738f4'\n",
    "\n",
    "# Set up authentication\n",
    "sp = spotipy.Spotify(auth_manager=SpotifyClientCredentials(client_id=client_id, client_secret=client_secret))"
   ]
  },
  {
   "cell_type": "code",
   "execution_count": 3,
   "metadata": {},
   "outputs": [],
   "source": [
    "# Function to get podcasts by genre and country with pagination\n",
    "def get_podcasts_by_genre(genre, country='ID', limit=50, offset=0):\n",
    "    results = sp.search(q=f'genre:{genre}', type='show', market=country, limit=limit, offset=offset)\n",
    "    return results['shows']['items']\n",
    "\n",
    "# List of genres you want to scrape\n",
    "genres = ['arts and entertainment', 'books', 'celebrities', 'comedy', 'design',\n",
    "          'fiction', 'film', 'literature', 'pop culture', 'stories', 'tv', 'horror',\n",
    "          'business', 'business & technology', 'careers', 'economics', 'finance',\n",
    "          'marketing', 'technology', 'educational', 'government', 'history', 'language',\n",
    "          'philosophy', 'science', 'games', 'video games', 'beauty', 'fashion', 'fitness & nutrion',\n",
    "          'food', 'health', 'hobbies', 'lifestyle', 'meditation podcasts', 'parenting', 'relationships',\n",
    "          'self-care', 'sex', 'news & politics', 'politics', 'baseball', 'basketball', 'boxing',\n",
    "          'football', 'hockey', 'mma', 'outdoor', 'rugby', 'running', 'soccer', 'sports & recreation',\n",
    "          'tennis', 'wrestling', 'true crime']\n",
    "\n",
    "# CSV file to save the podcasts data\n",
    "csv_file = 'podcasts_data.csv'\n",
    "\n",
    "# Number of podcasts to fetch per genre\n",
    "total_podcasts_per_genre = 1000  # Adjust this number based on your needs"
   ]
  },
  {
   "cell_type": "code",
   "execution_count": 4,
   "metadata": {},
   "outputs": [
    {
     "name": "stdout",
     "output_type": "stream",
     "text": [
      "Podcasts data has been scraped and saved to 'podcasts_data.csv'\n"
     ]
    }
   ],
   "source": [
    "# Open the CSV file for writing\n",
    "with open(csv_file, mode='w', newline='', encoding='utf-8') as file:\n",
    "    writer = csv.writer(file)\n",
    "    # Write the header\n",
    "    writer.writerow(['Genre', 'Podcast Name', 'Description', 'Publisher', 'Total Episodes', 'Spotify URL', 'Cover Image URL'])\n",
    "\n",
    "    # Iterate over each genre and get the podcasts with pagination\n",
    "    for genre in genres:\n",
    "        fetched_podcasts = 0\n",
    "        offset = 0\n",
    "        while fetched_podcasts < total_podcasts_per_genre:\n",
    "            podcasts = get_podcasts_by_genre(genre, limit=50, offset=offset)\n",
    "            if not podcasts:\n",
    "                break\n",
    "            for podcast in podcasts:\n",
    "                cover_image_url = podcast['images'][0]['url'] if podcast['images'] else None\n",
    "                \n",
    "                writer.writerow([\n",
    "                    genre,\n",
    "                    podcast['name'],\n",
    "                    podcast['description'],\n",
    "                    podcast['publisher'],\n",
    "                    podcast['total_episodes'],\n",
    "                    podcast['external_urls']['spotify'],\n",
    "                    cover_image_url\n",
    "                ])\n",
    "                fetched_podcasts += 1\n",
    "                if fetched_podcasts >= total_podcasts_per_genre:\n",
    "                    break\n",
    "            offset += 50\n",
    "\n",
    "print(f\"Podcasts data has been scraped and saved to '{csv_file}'\")"
   ]
  }
 ],
 "metadata": {
  "kernelspec": {
   "display_name": "Python 3",
   "language": "python",
   "name": "python3"
  },
  "language_info": {
   "codemirror_mode": {
    "name": "ipython",
    "version": 3
   },
   "file_extension": ".py",
   "mimetype": "text/x-python",
   "name": "python",
   "nbconvert_exporter": "python",
   "pygments_lexer": "ipython3",
   "version": "3.11.9"
  }
 },
 "nbformat": 4,
 "nbformat_minor": 2
}
