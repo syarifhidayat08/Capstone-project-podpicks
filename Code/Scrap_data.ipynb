{
 "cells": [
  {
   "cell_type": "code",
   "execution_count": 1,
   "metadata": {},
   "outputs": [],
   "source": [
    "import spotipy\n",
    "from spotipy.oauth2 import SpotifyClientCredentials\n",
    "import csv\n"
   ]
  },
  {
   "cell_type": "code",
   "execution_count": 2,
   "metadata": {},
   "outputs": [],
   "source": [
    "# Your Spotify API credentials\n",
    "client_id = '07a0800fd29f4f178958d2ed249b24c1'\n",
    "client_secret = '3ffba6a360d943eca14a252927d738f4'\n",
    "\n",
    "# Set up authentication\n",
    "sp = spotipy.Spotify(auth_manager=SpotifyClientCredentials(client_id=client_id, client_secret=client_secret))"
   ]
  },
  {
   "cell_type": "code",
   "execution_count": 3,
   "metadata": {},
   "outputs": [],
   "source": [
    "# Function to get podcasts by genre and country\n",
    "def get_podcasts_by_genre(genre, country='ID'):\n",
    "    results = sp.search(q=f'genre:{genre}', type='show', market=country, limit=50)\n",
    "    return results['shows']['items']\n",
    "\n",
    "# List of genres you want to scrape\n",
    "genres = ['arts and entertainment', 'books', 'celebrities', 'comedy', 'design',\n",
    "          'fiction', 'film', 'literature', 'pop culture', 'stories', 'tv', 'horror',\n",
    "          'business', 'business & technology', 'careers', 'economics', 'finance',\n",
    "          'marketing', 'technology', 'educational', 'government', 'history', 'language',\n",
    "          'philosophy', 'science', 'games', 'video games', 'beauty', 'fashion', 'fitness & nutrion',\n",
    "          'food', 'health', 'hobbies', 'lifestyle', 'meditation podcasts', 'parenting', 'relationships',\n",
    "          'self-care', 'sex', 'news & politics', 'politics', 'baseball', 'basketball', 'boxing',\n",
    "          'football', 'hockey', 'mma', 'outdoor', 'rugby', 'running', 'soccer', 'sports & recreation',\n",
    "          'tennis', 'wrestling', 'true crime']\n",
    "\n"
   ]
  },
  {
   "cell_type": "code",
   "execution_count": 4,
   "metadata": {},
   "outputs": [
    {
     "name": "stdout",
     "output_type": "stream",
     "text": [
      "Podcasts data has been scraped and saved to 'podcasts_data_2.csv'\n"
     ]
    }
   ],
   "source": [
    "# CSV file to save the podcasts data\n",
    "csv_file = 'podcasts_data_2.csv'\n",
    "\n",
    "# Open the CSV file for writing\n",
    "with open(csv_file, mode='w', newline='', encoding='utf-8') as file:\n",
    "    writer = csv.writer(file)\n",
    "    # Write the header\n",
    "    writer.writerow(['Genre', 'Podcast Name', 'Description', 'Publisher', 'Total Episodes', 'Spotify URL'])\n",
    "\n",
    "    # Iterate over each genre and get the podcasts\n",
    "    for genre in genres:\n",
    "        podcasts = get_podcasts_by_genre(genre)\n",
    "        for podcast in podcasts:\n",
    "            writer.writerow([\n",
    "                genre,\n",
    "                podcast['name'],\n",
    "                podcast['description'],\n",
    "                podcast['publisher'],\n",
    "                podcast['total_episodes'],\n",
    "                podcast['external_urls']['spotify']\n",
    "            ])\n",
    "\n",
    "print(f\"Podcasts data has been scraped and saved to '{csv_file}'\")"
   ]
  }
 ],
 "metadata": {
  "kernelspec": {
   "display_name": "Python 3",
   "language": "python",
   "name": "python3"
  },
  "language_info": {
   "codemirror_mode": {
    "name": "ipython",
    "version": 3
   },
   "file_extension": ".py",
   "mimetype": "text/x-python",
   "name": "python",
   "nbconvert_exporter": "python",
   "pygments_lexer": "ipython3",
   "version": "3.11.9"
  }
 },
 "nbformat": 4,
 "nbformat_minor": 2
}
