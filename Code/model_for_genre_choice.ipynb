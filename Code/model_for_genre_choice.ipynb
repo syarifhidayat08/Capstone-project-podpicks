{
  "cells": [
    {
      "cell_type": "code",
      "execution_count": 5,
      "metadata": {
        "id": "0iPx6-_1TkO8"
      },
      "outputs": [
        {
          "name": "stdout",
          "output_type": "stream",
          "text": [
            "Recommendations for genre 'books':\n",
            "      Genre                 Podcast Name  \\\n",
            "1542  books                    B-O-O-K-D   \n",
            "1177  books  Books, books and more books   \n",
            "1116  books                  Audio Books   \n",
            "1106  books                   Books Talk   \n",
            "1174  books              Books and Crime   \n",
            "1047  books             B.S. About Books   \n",
            "1099  books             Beyond the Books   \n",
            "1791  books                      Stories   \n",
            "1078  books             Books and Beyond   \n",
            "1124  books             Books and Beyond   \n",
            "\n",
            "                                            Description           Publisher  \\\n",
            "1542        Solo thoughts on books of different genres!                 Omi   \n",
            "1177  Zoe describes a book per episode. She gives a ...                 Zoë   \n",
            "1116  This podcast will make you know the content of...  Rupesh Darimisetti   \n",
            "1106  Welcome to our podcast, where we provide insig...          Books Talk   \n",
            "1174  A podcast where we talk about books in the cri...  Emma Grace Michael   \n",
            "1047  Join Breann and Shelby as they dive deep into ...    B.S. About Books   \n",
            "1099  It is hard to find time devoted to reading whe...        Vidhi Pathak   \n",
            "1791  At stories you will find books of genres like ...           Ace Smith   \n",
            "1078  Welcome to “Books and Beyond,” the podcast whe...          Book Talks   \n",
            "1124  All things literature and adapted media. Featu...     Louise Williams   \n",
            "\n",
            "      Total Episodes                                        Spotify URL  \\\n",
            "1542               1  https://open.spotify.com/show/2TUDxe0U4cnoaNeS...   \n",
            "1177               1  https://open.spotify.com/show/1i7pXHAwYeJ00MEe...   \n",
            "1116               1  https://open.spotify.com/show/5UAh02ZJmWrTiAGm...   \n",
            "1106               3  https://open.spotify.com/show/5OcmiMqksKPZlzpo...   \n",
            "1174               2  https://open.spotify.com/show/4GZmfvEi2q86ty00...   \n",
            "1047               2  https://open.spotify.com/show/5uckzY35NWVEgypg...   \n",
            "1099               4  https://open.spotify.com/show/0VLtC6EtzLCdoH1z...   \n",
            "1791              10  https://open.spotify.com/show/1KuuxrkrDLRVsP5t...   \n",
            "1078               1  https://open.spotify.com/show/6SPChflVuEhgVtZe...   \n",
            "1124               2  https://open.spotify.com/show/2SpdWQjYBJGIoMof...   \n",
            "\n",
            "                                        Cover Image URL  \n",
            "1542  https://i.scdn.co/image/ab6765630000ba8ac380d2...  \n",
            "1177  https://i.scdn.co/image/ab6765630000ba8a201a75...  \n",
            "1116  https://i.scdn.co/image/ab6765630000ba8a07491a...  \n",
            "1106  https://i.scdn.co/image/ab6765630000ba8acf329e...  \n",
            "1174  https://i.scdn.co/image/ab6765630000ba8aa35d03...  \n",
            "1047  https://i.scdn.co/image/bd28f0e518207ea8f86085...  \n",
            "1099  https://i.scdn.co/image/be0f909b6d0f2fa16bcd5d...  \n",
            "1791  https://i.scdn.co/image/ab6765630000ba8ad4e188...  \n",
            "1078  https://i.scdn.co/image/ab6765630000ba8acb81a8...  \n",
            "1124  https://i.scdn.co/image/a0ef18902e88e97b87c6c9...  \n"
          ]
        }
      ],
      "source": [
        "import pandas as pd\n",
        "from sklearn.feature_extraction.text import TfidfVectorizer\n",
        "from sklearn.metrics.pairwise import linear_kernel\n",
        "\n",
        "# Load dataset\n",
        "data = pd.read_csv('podcasts_data.csv')\n",
        "\n",
        "# Feature engineering by combining 'Genre' and 'Podcast Name'\n",
        "data['features'] = data['Genre'] + ' ' + data['Podcast Name']\n",
        "\n",
        "# Initialize TF-IDF vectorizer\n",
        "tfidf_vectorizer = TfidfVectorizer()\n",
        "\n",
        "# Fit and transform the text data\n",
        "tfidf_matrix = tfidf_vectorizer.fit_transform(data['features'])\n",
        "\n",
        "# Compute cosine similarity between podcasts\n",
        "cosine_sim = linear_kernel(tfidf_matrix, tfidf_matrix)\n",
        "\n",
        "# Function to get recommendations for a given genre\n",
        "def get_recommendations_by_genre(genre, n=10):\n",
        "    # Convert the input genre to lowercase\n",
        "    genre = genre.lower()\n",
        "\n",
        "    # Filter the dataset to include only podcasts with the given genre (case-insensitive)\n",
        "    genre_podcasts = data[data['Genre'].str.lower() == genre]\n",
        "\n",
        "    # If there are podcasts with the given genre\n",
        "    if not genre_podcasts.empty:\n",
        "        # Get the indices of podcasts within the genre\n",
        "        genre_indices = genre_podcasts.index.tolist()\n",
        "\n",
        "        # Compute the mean similarity score for the genre podcasts with all other podcasts\n",
        "        sim_scores = cosine_sim[genre_indices].mean(axis=0)\n",
        "        sim_scores = list(enumerate(sim_scores))\n",
        "\n",
        "        # Sort the podcasts based on similarity scores\n",
        "        sim_scores = sorted(sim_scores, key=lambda x: x[1], reverse=True)\n",
        "        sim_scores = sim_scores[:n]\n",
        "\n",
        "        # Get the indices of the top recommended podcasts\n",
        "        podcast_indices = [i[0] for i in sim_scores]\n",
        "\n",
        "        # Return the top n recommended podcasts with additional columns\n",
        "        return data.iloc[podcast_indices][['Genre', 'Podcast Name', 'Description', 'Publisher', 'Total Episodes', 'Spotify URL', 'Cover Image URL']]\n",
        "    else:\n",
        "        return pd.DataFrame(columns=['Genre', 'Podcast Name', 'Description', 'Publisher', 'Total Episodes', 'Spotify URL', 'Cover Image URL'])  # Return an empty DataFrame\n",
        "\n",
        "# Example usage: Get recommendations for a given genre\n",
        "genre = 'books'\n",
        "recommendations = get_recommendations_by_genre(genre)\n",
        "print(f\"Recommendations for genre '{genre}':\")\n",
        "print(recommendations)\n",
        "\n"
      ]
    },
    {
      "cell_type": "code",
      "execution_count": null,
      "metadata": {
        "id": "jbiF4gW5TsXm"
      },
      "outputs": [],
      "source": []
    }
  ],
  "metadata": {
    "colab": {
      "provenance": []
    },
    "kernelspec": {
      "display_name": "Python 3",
      "name": "python3"
    },
    "language_info": {
      "codemirror_mode": {
        "name": "ipython",
        "version": 3
      },
      "file_extension": ".py",
      "mimetype": "text/x-python",
      "name": "python",
      "nbconvert_exporter": "python",
      "pygments_lexer": "ipython3",
      "version": "3.11.4"
    }
  },
  "nbformat": 4,
  "nbformat_minor": 0
}
