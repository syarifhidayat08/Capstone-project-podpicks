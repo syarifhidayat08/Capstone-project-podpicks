{
 "cells": [
  {
   "cell_type": "code",
   "execution_count": null,
   "metadata": {},
   "outputs": [],
   "source": [
    "import spotipy\n",
    "from spotipy.oauth2 import SpotifyClientCredentials\n",
    "import json\n",
    "\n",
    "# Set up your Spotify API credentials\n",
    "SPOTIPY_CLIENT_ID = 'your_client_id'\n",
    "SPOTIPY_CLIENT_SECRET = 'your_client_secret'\n",
    "\n",
    "# Initialize the Spotify API client\n",
    "client_credentials_manager = SpotifyClientCredentials(client_id=SPOTIPY_CLIENT_ID, client_secret=SPOTIPY_CLIENT_SECRET)\n",
    "sp = spotipy.Spotify(client_credentials_manager=client_credentials_manager)\n",
    "\n",
    "def get_podcasts_by_genre(genre, region='ID'):\n",
    "    podcasts = []\n",
    "    results = sp.search(q=f'genre:{genre}', type='show', market=region, limit=50)\n",
    "\n",
    "    for show in results['shows']['items']:\n",
    "        podcast_info = {\n",
    "            'name': show['name'],\n",
    "            'description': show['description'],\n",
    "            'url': show['external_urls']['spotify'],\n",
    "            'cover_image': show['images'][0]['url'] if show['images'] else None\n",
    "        }\n",
    "        podcasts.append(podcast_info)\n",
    "\n",
    "    return podcasts\n",
    "\n",
    "# Specify the genre you are interested in\n",
    "genre = 'technology'\n",
    "\n",
    "# Fetch the podcasts\n",
    "podcasts = get_podcasts_by_genre(genre)\n",
    "\n",
    "# Print the podcasts\n",
    "print(json.dumps(podcasts, indent=2))\n",
    "\n",
    "# Optionally, save the results to a JSON file\n",
    "with open('podcasts.json', 'w') as f:\n",
    "    json.dump(podcasts, f, indent=2)\n"
   ]
  }
 ],
 "metadata": {
  "kernelspec": {
   "display_name": "Python 3",
   "language": "python",
   "name": "python3"
  },
  "language_info": {
   "codemirror_mode": {
    "name": "ipython",
    "version": 3
   },
   "file_extension": ".py",
   "mimetype": "text/x-python",
   "name": "python",
   "nbconvert_exporter": "python",
   "pygments_lexer": "ipython3",
   "version": "3.11.9"
  }
 },
 "nbformat": 4,
 "nbformat_minor": 2
}
