{
 "cells": [
  {
   "cell_type": "code",
   "execution_count": 1,
   "metadata": {},
   "outputs": [],
   "source": [
    "import spotipy\n",
    "from spotipy.oauth2 import SpotifyClientCredentials\n",
    "import csv\n"
   ]
  },
  {
   "cell_type": "code",
   "execution_count": 7,
   "metadata": {},
   "outputs": [],
   "source": [
    "# Your Spotify API credentials\n",
    "client_id = '07a0800fd29f4f178958d2ed249b24c1'\n",
    "client_secret = '3ffba6a360d943eca14a252927d738f4'\n",
    "\n",
    "# Set up authentication\n",
    "sp = spotipy.Spotify(auth_manager=SpotifyClientCredentials(client_id=client_id, client_secret=client_secret))"
   ]
  },
  {
   "cell_type": "code",
   "execution_count": 8,
   "metadata": {},
   "outputs": [],
   "source": [
    "# Function to get podcasts by genre and country\n",
    "def get_podcasts_by_genre(genre, country='ID'):\n",
    "    results = sp.search(q=f'genre:{genre}', type='show', market=country, limit=50)\n",
    "    return results['shows']['items']\n",
    "\n",
    "# List of genres you want to scrape\n",
    "#genres = ['arts and entertainment', 'books', 'celebrities', 'comedy', 'design',\n",
    "          #'fiction', 'film', 'literature', 'pop culture', 'stories', 'tv', \n",
    "          #'business', 'business & technology', 'careers', 'economics', 'finance',\n",
    "          #'marketing', 'technology', 'educational', 'government', 'history', 'language',\n",
    "          #'philosophy', 'science', 'games', 'video games', 'beauty', 'fashion', 'fitness & nutrion',\n",
    "          #'food', 'health', 'hobbies', 'lifestyle', 'meditation podcasts', 'parenting', 'relationships',\n",
    "          #'self-care', 'sex', 'news & politics', 'politics', 'baseball', 'basketball', 'boxing',\n",
    "          #'football', 'hockey', 'mma', 'outdoor', 'rugby', 'running', 'soccer', 'sports & recreation',\n",
    "          #'tennis', 'wrestling', 'true crime']\n",
    "\n",
    "genres = ['news & politics']\n",
    "\n"
   ]
  },
  {
   "cell_type": "code",
   "execution_count": 12,
   "metadata": {},
   "outputs": [
    {
     "name": "stdout",
     "output_type": "stream",
     "text": [
      "Podcasts data has been scraped and saved to 'podcasts_by_genre_5.csv'\n"
     ]
    }
   ],
   "source": [
    "# CSV file to save the podcasts data\n",
    "csv_file = 'podcasts_by_genre_5.csv'\n",
    "\n",
    "# Open the CSV file for writing\n",
    "with open(csv_file, mode='w', newline='', encoding='utf-8') as file:\n",
    "    writer = csv.writer(file)\n",
    "    # Write the header\n",
    "    writer.writerow(['Genre', 'Podcast Name', 'Description', 'Publisher', 'Total Episodes', 'Spotify URL', 'Image URL'])\n",
    "\n",
    "    # Iterate over each genre and get the podcasts\n",
    "    for genre in genres:\n",
    "        podcasts = get_podcasts_by_genre(genre)\n",
    "        for podcast in podcasts:\n",
    "            writer.writerow([\n",
    "                genre,\n",
    "                podcast['name'],\n",
    "                podcast['description'],\n",
    "                podcast['publisher'],\n",
    "                podcast['total_episodes'],\n",
    "                podcast['external_urls']['spotify']\n",
    "            ])\n",
    "\n",
    "print(f\"Podcasts data has been scraped and saved to '{csv_file}'\")"
   ]
  },
  {
   "cell_type": "code",
   "execution_count": 5,
   "metadata": {},
   "outputs": [
    {
     "name": "stdout",
     "output_type": "stream",
     "text": [
      "Data saved to podcasts_by_genre_id.csv\n"
     ]
    }
   ],
   "source": [
    "import requests\n",
    "import pandas as pd\n",
    "from spotipy.oauth2 import SpotifyClientCredentials\n",
    "import spotipy\n",
    "\n",
    "# Set up Spotify API credentials\n",
    "client_id = '07a0800fd29f4f178958d2ed249b24c1'\n",
    "client_secret = '3ffba6a360d943eca14a252927d738f4'\n",
    "\n",
    "# Authenticate with the Spotify API\n",
    "auth_manager = SpotifyClientCredentials(client_id=client_id, client_secret=client_secret)\n",
    "sp = spotipy.Spotify(auth_manager=auth_manager)\n",
    "\n",
    "# Function to get podcasts by genre and country\n",
    "def get_podcasts_by_genre(genre, country='ID'):\n",
    "    id_list = []\n",
    "    name_list = []\n",
    "    desc_list = []\n",
    "    offset = 0\n",
    "    limit = 50\n",
    "    \n",
    "    while True:\n",
    "        results = sp.search(q=f'genre:{genre}', type='show', market=country, limit=limit, offset=offset)\n",
    "        items = results['shows']['items']\n",
    "        \n",
    "        if not items:\n",
    "            break\n",
    "\n",
    "        for item in items:\n",
    "            id_list.append(item['id'])\n",
    "            name_list.append(item['name'])\n",
    "            desc_list.append(item['description'])\n",
    "\n",
    "        offset += limit\n",
    "    \n",
    "    return pd.DataFrame({\n",
    "        'ID': id_list,\n",
    "        'Name': name_list,\n",
    "        'Description': desc_list\n",
    "    })\n",
    "\n",
    "# Genre to search for\n",
    "genres = ['news & politics']\n",
    "\n",
    "# Create a DataFrame to collect all genres\n",
    "all_genres_df = pd.DataFrame()\n",
    "\n",
    "for genre in genres:\n",
    "    df = get_podcasts_by_genre(genre)\n",
    "    all_genres_df = pd.concat([all_genres_df, df], ignore_index=True)\n",
    "\n",
    "# Save the DataFrame to a CSV file\n",
    "csv_filename = 'podcasts_by_genre_id.csv'\n",
    "all_genres_df.to_csv(csv_filename, index=False)\n",
    "print(f\"Data saved to {csv_filename}\")\n"
   ]
  },
  {
   "cell_type": "code",
   "execution_count": 13,
   "metadata": {},
   "outputs": [
    {
     "name": "stdout",
     "output_type": "stream",
     "text": [
      "Podcasts data has been scraped and saved to 'podcasts_by_genre_with_cover_image.csv'\n"
     ]
    }
   ],
   "source": [
    "import requests\n",
    "import pandas as pd\n",
    "import csv\n",
    "from spotipy.oauth2 import SpotifyClientCredentials\n",
    "import spotipy\n",
    "\n",
    "# Set up Spotify API credentials\n",
    "client_id = 'YOUR_CLIENT_ID'\n",
    "client_secret = 'YOUR_CLIENT_SECRET'\n",
    "\n",
    "# Authenticate with the Spotify API\n",
    "auth_manager = SpotifyClientCredentials(client_id=client_id, client_secret=client_secret)\n",
    "sp = spotipy.Spotify(auth_manager=auth_manager)\n",
    "\n",
    "# Function to get podcasts by genre and country\n",
    "def get_podcasts_by_genre(genre, country='JP'):\n",
    "    id_list = []\n",
    "    name_list = []\n",
    "    desc_list = []\n",
    "    pub_list = []\n",
    "    total_eps_list = []\n",
    "    url_list = []\n",
    "    cover_img_list = []\n",
    "    offset = 0\n",
    "    limit = 50\n",
    "    \n",
    "    while True:\n",
    "        results = sp.search(q=f'genre:{genre}', type='show', market=country, limit=limit, offset=offset)\n",
    "        items = results['shows']['items']\n",
    "        \n",
    "        if not items:\n",
    "            break\n",
    "\n",
    "        for item in items:\n",
    "            id_list.append(item['id'])\n",
    "            name_list.append(item['name'])\n",
    "            desc_list.append(item['description'])\n",
    "            pub_list.append(item['publisher'])\n",
    "            total_eps_list.append(item['total_episodes'])\n",
    "            url_list.append(item['external_urls']['spotify'])\n",
    "            cover_img_list.append(item['images'][0]['url'] if item['images'] else None)  # Get the cover image URL\n",
    "\n",
    "        offset += limit\n",
    "    \n",
    "    return pd.DataFrame({\n",
    "        'ID': id_list,\n",
    "        'Name': name_list,\n",
    "        'Description': desc_list,\n",
    "        'Publisher': pub_list,\n",
    "        'Total Episodes': total_eps_list,\n",
    "        'Spotify URL': url_list,\n",
    "        'Cover Image': cover_img_list\n",
    "    })\n",
    "\n",
    "# Genre to search for\n",
    "genres = ['news & politics']\n",
    "\n",
    "# Create a DataFrame to collect all genres\n",
    "all_genres_df = pd.DataFrame()\n",
    "\n",
    "for genre in genres:\n",
    "    df = get_podcasts_by_genre(genre)\n",
    "    all_genres_df = pd.concat([all_genres_df, df], ignore_index=True)\n",
    "\n",
    "# Save the DataFrame to a CSV file\n",
    "csv_filename = 'podcasts_by_genre_with_cover_image.csv'\n",
    "all_genres_df.to_csv(csv_filename, index=False)\n",
    "print(f\"Podcasts data has been scraped and saved to '{csv_filename}'\")\n"
   ]
  }
 ],
 "metadata": {
  "kernelspec": {
   "display_name": "Python 3",
   "language": "python",
   "name": "python3"
  },
  "language_info": {
   "codemirror_mode": {
    "name": "ipython",
    "version": 3
   },
   "file_extension": ".py",
   "mimetype": "text/x-python",
   "name": "python",
   "nbconvert_exporter": "python",
   "pygments_lexer": "ipython3",
   "version": "3.11.9"
  }
 },
 "nbformat": 4,
 "nbformat_minor": 2
}
